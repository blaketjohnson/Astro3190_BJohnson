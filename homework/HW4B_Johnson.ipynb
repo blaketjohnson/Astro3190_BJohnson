{
 "cells": [
  {
   "cell_type": "markdown",
   "metadata": {},
   "source": [
    "**<font color='red'>Change the name from assignment_lastname to include YOUR last name</font>**. This will make sure that the assignment doesn't get overwritten when you do a git pull in class. "
   ]
  },
  {
   "cell_type": "markdown",
   "metadata": {},
   "source": [
    "# Homework 4B - the coding portion"
   ]
  },
  {
   "cell_type": "markdown",
   "metadata": {},
   "source": [
    "## Due: Friday, March 26"
   ]
  },
  {
   "cell_type": "markdown",
   "metadata": {},
   "source": [
    "Skills: Loops, lists, functions"
   ]
  },
  {
   "cell_type": "markdown",
   "metadata": {},
   "source": [
    "Remember to push to your github!"
   ]
  },
  {
   "cell_type": "markdown",
   "metadata": {},
   "source": [
    "Always start with your import statement!"
   ]
  },
  {
   "cell_type": "code",
   "execution_count": 8,
   "metadata": {},
   "outputs": [],
   "source": [
    "import numpy as np"
   ]
  },
  {
   "cell_type": "markdown",
   "metadata": {},
   "source": [
    "**Please read before completing exercise 1**\n",
    "Functions are a really useful tool for automating tasks that you want to do over and over again. For this first excercise, we will be building up to writing a function that calculates the Schwartzchild radius, or the size of the event horizon, of a black hole. You can read up a bit more on the Schwartzchild radius [here](http://www.astronomy.ohio-state.edu/~thompson/1144/Lecture19.html) if you would like. The only thing you're really going to need to know is the equation use to calculate the Schwartzchild radius: <br>\n",
    "$R_{S} = \\frac{2\\ G\\ M_{BH}}{c^{2}}$ <br>\n",
    "Where $R_{S}$ is the Schwartzchild radius, or radius of the event horizon. $G$ is the gravitational constant, a physical constant used to calculate gravitational effects. $M_{BH}$ is the mass of the black hole and $c$ is the speed of light, another physical constant."
   ]
  },
  {
   "cell_type": "markdown",
   "metadata": {},
   "source": [
    "First, we need to define our constants: $G$ and $c$. I'm putting in the values for you below, you just need to execute the cell. Note that astronomers use a base set of units called ``cgs``, short for centimeters-grams-seconds. Many of you might be familiar with SI units from a physics class which uses meters-kilograms-seconds. We keep all constants in the same base units to avoid doing too much unit conversion."
   ]
  },
  {
   "cell_type": "code",
   "execution_count": 9,
   "metadata": {},
   "outputs": [],
   "source": [
    "G = 6.6725985E-8 #cm^3 g^-1 s^-2\n",
    "c = 2.99792458E10 #cm s^-1"
   ]
  },
  {
   "cell_type": "markdown",
   "metadata": {},
   "source": [
    "**1)**\n",
    "Use the equation above to calculate the size of the Schwartzchild radius for a black hole with a mass of 10$M_{\\odot}$. Note that $1 M_{\\odot}=1.99 \\times 10^{33}$ grams. You will need to multiply 10 by this conversion factor to use the constants above and have your units work out."
   ]
  },
  {
   "cell_type": "code",
   "execution_count": 49,
   "metadata": {},
   "outputs": [
    {
     "name": "stdout",
     "output_type": "stream",
     "text": [
      "2954858.303829219\n"
     ]
    }
   ],
   "source": [
    "M=1.99e34\n",
    "Rs=float(2*G*M)/(c**2)\n",
    "print(Rs)"
   ]
  },
  {
   "cell_type": "markdown",
   "metadata": {},
   "source": [
    "**2)**\n",
    "Write a function called `schwartzchild_radius` that takes in a black hole mass and returns the Schwartzchild radius in centimeters. Please refer to our in class notebook on functions if you need to remember the structure a function has in python. Run your function and print out the Schwartzchild radius of a black hole with a mass of $1M_{\\odot}$."
   ]
  },
  {
   "cell_type": "code",
   "execution_count": 50,
   "metadata": {},
   "outputs": [
    {
     "name": "stdin",
     "output_type": "stream",
     "text": [
      "What is the Mass of the Black Hole in 𝑀⊙? 1\n"
     ]
    }
   ],
   "source": [
    "def schwartzchild_radius(Mass):\n",
    "    return (float(2*6.6725985E-8*Mass*1.99e33)/(2.99792458E10**2))\n",
    "\n",
    "M = float(input(\"What is the Mass of the Black Hole in 𝑀⊙?\"))\n",
    "Rx = schwartzchild_radius(M)"
   ]
  },
  {
   "cell_type": "code",
   "execution_count": 51,
   "metadata": {},
   "outputs": [
    {
     "name": "stdout",
     "output_type": "stream",
     "text": [
      "295485.8303829219 cm\n"
     ]
    }
   ],
   "source": [
    "print(float(Rx),\"cm\")"
   ]
  },
  {
   "cell_type": "markdown",
   "metadata": {},
   "source": [
    "**3)** Copy your function into the cell below and modify it so that it prints out the Schwartzchild radius to screen in both cm and solar radii (X times the radius of the Sun). *Hint: $1 R_{\\odot}=6.96 \\times 10^{10}$ cm.*"
   ]
  },
  {
   "cell_type": "code",
   "execution_count": 13,
   "metadata": {},
   "outputs": [
    {
     "name": "stdin",
     "output_type": "stream",
     "text": [
      "What is the Mass of the Black Hole in 𝑀⊙? 1\n"
     ]
    },
    {
     "name": "stdout",
     "output_type": "stream",
     "text": [
      "so the schwartzchild radius would be 295485.8303829219 in cm and 4.2454860687201425e-06 in solar radii.\n"
     ]
    }
   ],
   "source": [
    "def schwartzchild_radius(Mass):\n",
    "    Rx = float(2*6.6725985E-8*Mass*1.99e33)/(2.99792458E10**2)\n",
    "    Rad = Rx/6.96e10\n",
    "    print(\"so the schwartzchild radius would be\", float(Rx), \"in cm and\", float(Rad), \"in solar radii.\")\n",
    "M = float(input(\"What is the Mass of the Black Hole in 𝑀⊙?\"))\n",
    "schwartzchild_radius(M)"
   ]
  },
  {
   "cell_type": "code",
   "execution_count": null,
   "metadata": {},
   "outputs": [],
   "source": []
  },
  {
   "cell_type": "markdown",
   "metadata": {},
   "source": [
    "**4)** Now imagine that we could make a black hole out of the Earth (we can't). The mass of the Earth is $5.9 \\times 10^{27}$ grams. Calculate what the Earth's mass is in terms of solar masses and the use your function to calculate the Schwartzchild radius the Earth would have if it could collapse into a black hole. Google around to find some physical item you are familiar with that is about the same size."
   ]
  },
  {
   "cell_type": "code",
   "execution_count": 14,
   "metadata": {},
   "outputs": [
    {
     "name": "stdin",
     "output_type": "stream",
     "text": [
      "What is the Mass of the Black Hole in grams? 5.9e27\n"
     ]
    },
    {
     "name": "stdout",
     "output_type": "stream",
     "text": [
      "('so the schwartzchild radius would be', 0.8760635172156983, 'in cm and', 1.258711950022555e-11, 'in solar radii.')\n"
     ]
    }
   ],
   "source": [
    "def schwartzchild_radius(Mass):\n",
    "    return (float(2*6.6725985E-8*Mass)/(2.99792458E10**2))\n",
    "\n",
    "M = float(input(\"What is the Mass of the Black Hole in grams?\"))\n",
    "Rx = schwartzchild_radius(M)\n",
    "Rad = schwartzchild_radius(M)/6.96e10\n",
    "Radius_in_cm_and_solar_radii = \"so the schwartzchild radius would be\", float(Rx), \"in cm and\", float(Rad), \"in solar radii.\"\n",
    "print(Radius_in_cm_and_solar_radii)"
   ]
  },
  {
   "cell_type": "markdown",
   "metadata": {},
   "source": [
    "**5)**\n",
    "The mass of the black hole in the center of M87 that was measured by the Event Horizon Telescope team is $6.5\\times 10^{9} M_{\\odot}$. Calculate the radius of the event horizon for this black hole in both centimeters and solar radii."
   ]
  },
  {
   "cell_type": "code",
   "execution_count": 54,
   "metadata": {},
   "outputs": [
    {
     "name": "stdin",
     "output_type": "stream",
     "text": [
      "What is the Mass of the Black Hole in 𝑀⊙? 6.5e9\n"
     ]
    },
    {
     "name": "stdout",
     "output_type": "stream",
     "text": [
      "('so the schwartzchild radius would be', 1920657897488992.5, 'in cm and', 27595.659446680926, 'in solar radii.')\n"
     ]
    }
   ],
   "source": [
    "def schwartzchild_radius(Mass):\n",
    "    return (float(2*6.6725985E-8*Mass*1.99e33)/(2.99792458E10**2))\n",
    "\n",
    "M = float(input(\"What is the Mass of the Black Hole in 𝑀⊙?\"))\n",
    "Rx = schwartzchild_radius(M)\n",
    "Rad = schwartzchild_radius(M)/6.96e10\n",
    "Radius_in_cm_and_solar_radii = 'so the schwartzchild radius would be', Rx, 'in cm and', Rad, 'in solar radii.'\n",
    "\n",
    "print(Radius_in_cm_and_solar_radii)"
   ]
  },
  {
   "cell_type": "markdown",
   "metadata": {},
   "source": [
    "**6)** The ring diameter in the paper is given as ~$42 \\mu$as, or 42 micro-arcseconds. An arcsecond is a unit we us in astronomy to measure how big something looks on the sky. The size of an object in the sky depends on both the size of the object itself and its distance away from us. You can calculate the angular size of an object using the following equation: <br>\n",
    "$\\theta = \\frac{d\\ \\times\\ 206264}{D}$ arcseconds<br>\n",
    "Where $\\theta$ is the angular size of the object in arcseconds. The factor of 206,264 in the equation converts from radians to arcseconds for you. $d$ is the physical diameter of the object and D is the distance to that object. You need both $d$ and $D$ to be given in the same units. Here we will use centimeters. <br>\n",
    "\n",
    "Write a function called `angular_size` that takes in the DIAMETER (not the radius) of an object in centimeters and the distance to that object in centimeters and returns its angular size in arcseconds. The distance to M87 is ~ $5 \\times 10^{25}$ centimeters. Use your function to print out the angular size of the black hole in M87 in arcseconds. Use the radius you calculated in the question above and the distance to M87 listed above for your calculations."
   ]
  },
  {
   "cell_type": "code",
   "execution_count": 61,
   "metadata": {},
   "outputs": [
    {
     "name": "stdin",
     "output_type": "stream",
     "text": [
      "What is the distace of the object you wish to measure from earth? 5e25\n"
     ]
    }
   ],
   "source": [
    "def angular_size(diameter,distance):\n",
    "    return((diameter*206264)/distance)\n",
    "d = Rx*2\n",
    "D = float(input('What is the distace of the object you wish to measure from earth?'))\n",
    "angle = angular_size(d,D)"
   ]
  },
  {
   "cell_type": "code",
   "execution_count": 62,
   "metadata": {},
   "outputs": [
    {
     "name": "stdout",
     "output_type": "stream",
     "text": [
      "the objects angular size is 1.584650322270678e-05 arc seconds\n"
     ]
    }
   ],
   "source": [
    "print(\"the objects angular size is\", angle, \"arc seconds\")"
   ]
  },
  {
   "cell_type": "markdown",
   "metadata": {},
   "source": [
    "**7)**\n",
    "How does this angular size compare to the ring diameter listed in the paper? If your answers don't match up, why not (look back at your reading questions from part A)? *Hint: $1 \\mu as = 1.0 \\times 10^{-6} as$* "
   ]
  },
  {
   "cell_type": "markdown",
   "metadata": {},
   "source": [
    "#I used the rings diameter to calculate the angular size.  But the angular size in in arc seconds and not uas.  So even though there are discrepancies, the values are still accurate."
   ]
  },
  {
   "cell_type": "markdown",
   "metadata": {},
   "source": [
    "**8)** Add a doc-string to your function `schwartzchild_radius` with instructions for a future user (or future you!). Doc-strings are REALLY important when working on a long term research project. You will likely need to go back to code you write a couple of weeks/months/years ago and you need to understand what it does. In addition to adding doc-strings, make sure you comment your code. I always add comments with units for constants, because this can help clarify bugs later on! Check back to your functions notebook from class if you need to remember the syntax for adding a doc-string."
   ]
  },
  {
   "cell_type": "code",
   "execution_count": 63,
   "metadata": {},
   "outputs": [
    {
     "name": "stdin",
     "output_type": "stream",
     "text": [
      "What is the Mass of the Black Hole in 𝑀⊙? 1\n"
     ]
    },
    {
     "name": "stdout",
     "output_type": "stream",
     "text": [
      "('so the schwartzchild radius would be', 295485, 'in cm and', 0, 'in solar radii.')\n"
     ]
    }
   ],
   "source": [
    "def schwartzchild_radius(Mass):\n",
    "    '''Calculates the radius of the event horizon of an object when you input the objects mass in earth masses.'''\n",
    "    return (float(2*6.6725985E-8*Mass*1.99e33)/(2.99792458E10**2))\n",
    "\n",
    "M = float(input(\"What is the Mass of the Black Hole in 𝑀⊙?\")) #units in earth masses\n",
    "Rx = schwartzchild_radius(M) #Calculate the radius in cm\n",
    "Rad = schwartzchild_radius(M)/6.96e10 #calculate the radius in solar radii\n",
    "Radius_in_cm_and_solar_radii = \"so the schwartzchild radius would be\", int(Rx), \"in cm and\", int(Rad), \"in solar radii.\"\n",
    "\n",
    "print(Radius_in_cm_and_solar_radii)"
   ]
  },
  {
   "cell_type": "markdown",
   "metadata": {},
   "source": [
    "Now use the Jupyter notebook help functionality to view your doc string for your new function! If you execute the cell below like you do when you're running code, the information in your doc-string should show up."
   ]
  },
  {
   "cell_type": "code",
   "execution_count": 64,
   "metadata": {},
   "outputs": [
    {
     "data": {
      "text/plain": [
       "\u001b[1;31mSignature:\u001b[0m \u001b[0mschwartzchild_radius\u001b[0m\u001b[1;33m(\u001b[0m\u001b[0mMass\u001b[0m\u001b[1;33m)\u001b[0m\u001b[1;33m\u001b[0m\u001b[1;33m\u001b[0m\u001b[0m\n",
       "\u001b[1;31mDocstring:\u001b[0m Calculates the radius of the event horizon of an object when you input the objects mass in earth masses.\n",
       "\u001b[1;31mFile:\u001b[0m      c:\\users\\blake\\desktop\\premapog\\homework\\<ipython-input-63-05e529a0215a>\n",
       "\u001b[1;31mType:\u001b[0m      function\n"
      ]
     },
     "metadata": {},
     "output_type": "display_data"
    }
   ],
   "source": [
    "schwartzchild_radius?"
   ]
  },
  {
   "cell_type": "markdown",
   "metadata": {},
   "source": [
    "**9)**\n",
    "Now, let's incorporate some lists and loops to utilize our functions! Create a numpy array called `masses` that contains 10 values between 10 and 1,000,000 spaced logarithmically (there is a `numpy` function for this). These values will be the masses of 10 black holes, for which we want to calculate the Schwartzchild radius. <br>\n",
    "\n",
    "For this assignment you will create two different for loops in the cells below. Both loops will be `for` loops that run your `schwartzchild_radius` function on each black hole mass in the array you created above, assuming the masses are in solar mass units. You should include a `print` statement in each loop before you call the `schwartzchild_radius` function that prints out the current black hole mass. <br>\n",
    "\n",
    "Look back at the notebook titled `04-control_flow_Lastname` and scroll to Example 7. **First**, you will make a `for` loop that follows the syntax of the first loop in that example (`for period in orbital_periods:`). **Second**, you will make a `for` loop that follows the syntax in the next code cell (`for i in range(5):`) where the range is the length of your `masses` array."
   ]
  },
  {
   "cell_type": "code",
   "execution_count": 65,
   "metadata": {},
   "outputs": [
    {
     "name": "stdout",
     "output_type": "stream",
     "text": [
      "[1.00000000e+01 3.59381366e+01 1.29154967e+02 4.64158883e+02\n",
      " 1.66810054e+03 5.99484250e+03 2.15443469e+04 7.74263683e+04\n",
      " 2.78255940e+05 1.00000000e+06]\n"
     ]
    }
   ],
   "source": [
    "masses = np.logspace(1,6,10)\n",
    "print(masses)"
   ]
  },
  {
   "cell_type": "code",
   "execution_count": 66,
   "metadata": {},
   "outputs": [
    {
     "name": "stdout",
     "output_type": "stream",
     "text": [
      "2954858.303829219\n",
      "10619210.146908013\n",
      "38163462.52477077\n",
      "137152373.07961708\n",
      "492900072.3967576\n",
      "1771391015.0697567\n",
      "6366049233.898451\n",
      "22878394721.23722\n",
      "82220687555.09795\n",
      "295485830382.92194\n"
     ]
    }
   ],
   "source": [
    "for M in masses:\n",
    "    \n",
    "    print(schwartzchild_radius(M))"
   ]
  },
  {
   "cell_type": "code",
   "execution_count": 67,
   "metadata": {},
   "outputs": [
    {
     "name": "stdout",
     "output_type": "stream",
     "text": [
      "2954858.303829219\n",
      "10619210.146908013\n",
      "38163462.52477077\n",
      "137152373.07961708\n",
      "492900072.3967576\n",
      "1771391015.0697567\n",
      "6366049233.898451\n",
      "22878394721.23722\n",
      "82220687555.09795\n",
      "295485830382.92194\n"
     ]
    }
   ],
   "source": [
    "mass_values = len(masses)\n",
    "for i in range(mass_values):\n",
    "    print(schwartzchild_radius(masses[i]))\n"
   ]
  },
  {
   "cell_type": "markdown",
   "metadata": {},
   "source": [
    "**10)**\n",
    "Now copy your second `for` loop from the previous question into the cell below and edit it so that you only print out the black hole mass for the even-indexed black hole masses (indexes of 0, 2, 4, ...). You still want to calculate the Schwartzchild radius for each black hole mass."
   ]
  },
  {
   "cell_type": "code",
   "execution_count": 68,
   "metadata": {},
   "outputs": [
    {
     "name": "stdout",
     "output_type": "stream",
     "text": [
      "2954858.303829219\n",
      "38163462.52477077\n",
      "492900072.3967576\n",
      "6366049233.898451\n",
      "82220687555.09795\n"
     ]
    }
   ],
   "source": [
    "mass_values = len(masses)\n",
    "for i in range(mass_values):\n",
    "    if i % 2 == 0:\n",
    "        print(schwartzchild_radius(masses[i]))\n",
    "    else:\n",
    "        pass"
   ]
  },
  {
   "cell_type": "code",
   "execution_count": null,
   "metadata": {},
   "outputs": [],
   "source": []
  },
  {
   "cell_type": "code",
   "execution_count": null,
   "metadata": {},
   "outputs": [],
   "source": []
  }
 ],
 "metadata": {
  "kernelspec": {
   "display_name": "Python 3",
   "language": "python",
   "name": "python3"
  },
  "language_info": {
   "codemirror_mode": {
    "name": "ipython",
    "version": 3
   },
   "file_extension": ".py",
   "mimetype": "text/x-python",
   "name": "python",
   "nbconvert_exporter": "python",
   "pygments_lexer": "ipython3",
   "version": "3.9.1"
  }
 },
 "nbformat": 4,
 "nbformat_minor": 4
}
