{
 "cells": [
  {
   "cell_type": "markdown",
   "metadata": {},
   "source": [
    "\n",
    "\n",
    "# Research: Cepheid light curves\n",
    "\n",
    "Let's put together some of the skills you've learned! You will need the file located here: `data/cepheid.txt`. Read in this file using the functions we worked on in Lesson 6. This file contains flux measurements from a variable star over time. In this notebook, your task will be to _measure the approximate distance to this star_. **Bold text** makes clear what your task is in each cell. \n",
    "\n",
    "### Read in and plot the data\n",
    "We have used the function `ascii.read` to read in data before (see `06-plotting_Lastname.ipynb` for example). **Use `ascii.read` to load the file `data/cepheid.txt` into a variable `data_table`**:"
   ]
  },
  {
   "cell_type": "code",
   "execution_count": 3,
   "metadata": {},
   "outputs": [
    {
     "name": "stdout",
     "output_type": "stream",
     "text": [
      "  Time      Blue    BlueSD    Red     RedSD  \n",
      "-------- --------- -------- -------- --------\n",
      "202.6288    0.4887    0.117   0.4949  0.02505\n",
      "205.7931    0.2359   0.0286   0.2853    0.027\n",
      "206.8021    0.1545  0.02127    0.205  0.02149\n",
      " 209.823  -0.09302  0.01784 -0.04896   0.0181\n",
      "210.8108   -0.1567  0.02407 -0.08673  0.02181\n",
      "211.7849   -0.2108  0.01502  -0.1717  0.01477\n",
      "212.6712   -0.1954  0.02964  -0.1785  0.02545\n",
      "213.7561   -0.3363  0.02445   -0.246  0.02152\n",
      "218.7758   0.08443  0.02064 -0.03662  0.01895\n",
      "219.8242    0.1792  0.02477   0.0266  0.02019\n",
      "     ...       ...      ...      ...      ...\n",
      "596.5834    0.1978 -0.06615   0.2388  -0.0467\n",
      "597.6674 -0.007334    -99.0   0.3201 -0.09304\n",
      "597.7841    0.4508  0.02431   0.3785  0.02243\n",
      "597.8022    0.4615  0.02449   0.3964  0.02209\n",
      "598.5636    0.5531   0.0277   0.4328  0.02401\n",
      "599.5488    0.4928  0.02429   0.4555  0.02243\n",
      "600.5507    0.4243  0.02541   0.4541  0.02301\n",
      "601.5289    0.4296  0.02633   0.4368  0.02273\n",
      "601.8234    0.3944  0.02269   0.3887   0.0214\n",
      "602.7496    0.2847   0.0222    0.314  0.02079\n",
      "603.7822    0.2348  0.01954     0.27  0.01911\n",
      "Length = 344 rows\n"
     ]
    }
   ],
   "source": [
    "import matplotlib.pyplot as plt\n",
    "%matplotlib inline\n",
    "import numpy as np\n",
    "from astropy.io import ascii\n",
    "\n",
    "data_table=ascii.read(\"data/cepheid.txt\")\n",
    "print(data_table)"
   ]
  },
  {
   "cell_type": "markdown",
   "metadata": {},
   "source": [
    "This data table has a column called `Time` which tells you the time of each brightness measurement (units of days) and a column called `Red` and `Blue` which tells you the flux of the star through two filters. \n",
    "\n",
    "**Plot the red fluxes as a function of time and reproduce this plot using `matplotlib`**. \n",
    "\n",
    "![](data/example_plot_1.png)"
   ]
  },
  {
   "cell_type": "code",
   "execution_count": 22,
   "metadata": {},
   "outputs": [
    {
     "data": {
      "text/plain": [
       "(-1.0, 1.5)"
      ]
     },
     "execution_count": 22,
     "metadata": {},
     "output_type": "execute_result"
    },
    {
     "data": {
      "image/png": "[encoded data removed]",
      "text/plain": [
       "<Figure size 432x288 with 1 Axes>"
      ]
     },
     "metadata": {
      "needs_background": "light"
     },
     "output_type": "display_data"
    }
   ],
   "source": [
    "##### Check out the data - how many columns? what are each column?\n",
    "plt.scatter(data_table['Time'], data_table['Red'],color='red',label='Red flux',s=8)\n",
    "plt.scatter(data_table['Time'], data_table['Blue'],color='blue',label='Blue flux',s=8)\n",
    "plt.xlabel('Time[days]',fontweight='bold',fontsize='16',color = 'black')\n",
    "plt.ylabel('Flux[mag]',fontweight='bold',fontsize='16',color='black')\n",
    "plt.legend(loc='upper right')\n",
    "plt.title('Cepeid light curve',fontweight='bold',fontsize='16')\n",
    "plt.xlim(200,650)\n",
    "plt.ylim(-1.0,1.5)"
   ]
  },
  {
   "cell_type": "markdown",
   "metadata": {},
   "source": [
    "This type of star is called a [Cepheid variable star](https://en.wikipedia.org/wiki/Classical_Cepheid_variable#Period-luminosity_relation). These stars are useful to astronomers because their flux varies in a predictable sinusoidal pattern. It turns out that the period of the flux oscillation is directly related to how intrinsically bright the star is – so if you know how long the period is, and you measure how dim the star _appears_ to be, you can estimate how far away it is because you know how bright it really is.  Begin by doing a NASA ADS search to find papers related to Cepheid variable stars.  Part of doing research is finding and reading the appropriate background literature.  This will help you build the introduction/background section of your final presentation.\n",
    "\n",
    "### A very rough \"model\"\n",
    "\n",
    "In the cell below, **estimate the period of this Cepheid** by plotting a sinusoidal function over the data. You can calculate flux if you have the period of variability using the following equation: \n",
    "\n",
    "$$\\textrm{flux} = \\textrm{amplitude} \\times \\sin \\left( \\frac{2\\pi}{\\textrm{period}} \\left( \\textrm{time} - \\textrm{offset} \\right) \\right)$$\n",
    "\n",
    "Hint: start with an `offset` of zero and a period somewhere between 24 and 25 days. The `time` variable in the funciton should be the `data_table['Time']` column that you read in and remember that the `sin` function is within numpy. Also, the `amplitude` variable is something you should just play around with. Try starting with `amplitude=0.5` and tweak it as necessary.\n",
    "\n",
    "![](data/example_plot_2.png)\n",
    "\n"
   ]
  },
  {
   "cell_type": "code",
   "execution_count": 31,
   "metadata": {},
   "outputs": [],
   "source": [
    "# Create a function that calculates the flux\n",
    "def flux(A,T,t,O):\n",
    "    return(A*np.sin(((2*np.pi)/T)*(t-O)))"
   ]
  },
  {
   "cell_type": "code",
   "execution_count": 33,
   "metadata": {},
   "outputs": [
    {
     "ename": "SyntaxError",
     "evalue": "invalid syntax (<ipython-input-33-6eae430bd8b1>, line 13)",
     "output_type": "error",
     "traceback": [
      "\u001b[1;36m  File \u001b[1;32m\"<ipython-input-33-6eae430bd8b1>\"\u001b[1;36m, line \u001b[1;32m13\u001b[0m\n\u001b[1;33m    plt.plot(data_table[?],flux(data_table[?],period_guess,\u001b[0m\n\u001b[1;37m                        ^\u001b[0m\n\u001b[1;31mSyntaxError\u001b[0m\u001b[1;31m:\u001b[0m invalid syntax\n"
     ]
    }
   ],
   "source": [
    "# Define some variables you'll need for your function\n",
    "period_guess = 24.5\n",
    "amplitude_guess = 0.5\n",
    "offset_guess = 5\n",
    "\n",
    "# Set a figure size\n",
    "plt.figure(figsize=(12.5,5))\n",
    "\n",
    "# Plot my flux curve assuming the above values:\n",
    "# Note: as long as your plot command is enclosed by (), \n",
    "# you can make it run more than oneline, \n",
    "# which helps when you've got a lot of arguments \n",
    "plt.plot(data_table[?],flux(data_table[?],period_guess,\n",
    "         amplitude_guess,offset_guess),\n",
    "         linestyle='--',color='k',label='Guess')\n",
    "\n",
    "# Plot data points for blue and red magnitudes\n",
    "plt.plot(data_table['Time'],data_table['Blue'],'o',markersize=5,\n",
    "         color='Blue',label='Blue')\n",
    "plt.plot(data_table['Time'],data_table['Red'],'o',markersize=5,\n",
    "         color='Red',label='Red')\n",
    "\n",
    "# Add a legend\n",
    "plt.legend(fontsize=14)"
   ]
  },
  {
   "cell_type": "markdown",
   "metadata": {},
   "source": [
    "### Period-luminosity relation\n",
    "\n",
    "The brightness of this Cepheid variable star is related to its period by the _period-luminosity relation_: \n",
    "\n",
    "$$ M_{v}=-2.43 \\left(\\log _{{10}}( \\textrm{period})-1\\right) - 4.05 $$\n",
    "\n",
    "where $M_v$ is the [_absolute magnitude_](https://en.wikipedia.org/wiki/Absolute_magnitude) of the star. Note that brighter stars have more negative absolute magnitudes. **Write a function** called `period_to_absolute_magnitude` which takes the period as the argument, and returns the absolute magnitude. \n",
    "\n",
    "**Create a range of periods and plot the corresponding absolute magnitudes using your function **\n",
    "\n",
    "![](data/example_plot_3.png)"
   ]
  },
  {
   "cell_type": "code",
   "execution_count": 16,
   "metadata": {},
   "outputs": [],
   "source": [
    "# Create a the period_to_absolute_magnitude function\n",
    "def period_to_absolute_magnitude(?):\n",
    "    \"\"\"Takes a Cepheid period and calculates the abs magnitude\"\"\"\n",
    "   \n",
    "    return M_v"
   ]
  },
  {
   "cell_type": "code",
   "execution_count": 5,
   "metadata": {},
   "outputs": [
    {
     "ename": "SyntaxError",
     "evalue": "invalid syntax (<ipython-input-5-38fab6eab3a1>, line 6)",
     "output_type": "error",
     "traceback": [
      "\u001b[0;36m  File \u001b[0;32m\"<ipython-input-5-38fab6eab3a1>\"\u001b[0;36m, line \u001b[0;32m6\u001b[0m\n\u001b[0;31m    plt.plot(periods,?,linestyle='--',\u001b[0m\n\u001b[0m                     ^\u001b[0m\n\u001b[0;31mSyntaxError\u001b[0m\u001b[0;31m:\u001b[0m invalid syntax\n"
     ]
    }
   ],
   "source": [
    "#Shape figure\n",
    "plt.figure(figsize=(7,7))\n",
    "\n",
    "#Make an array of periods \n",
    "periods = np.linspace(0,100,1000)\n",
    "plt.plot(periods,?,linestyle='--',\n",
    "         linewidth=4)\n",
    "\n",
    "#Call the period_to_absolute_magnitude function inside the \n",
    "#plotting call to plot one point with our \n",
    "#best guess period and the corresponding absolute magnitude\n",
    "plt.plot(period_guess,period_to_absolute_magnitude(?),'o',\n",
    "        label='Our Cepheid', markersize=10)\n",
    "\n",
    "# Label the axes\n",
    "#(Unneccessary, but nice) You can use a word processing language \n",
    "# called LaTeX to format axis labels\n",
    "\n",
    "\n",
    "#Make tick numbers larger\n",
    "\n",
    "\n",
    "#Add legend\n"
   ]
  },
  {
   "cell_type": "markdown",
   "metadata": {},
   "source": [
    "Use your function from above to **calculate the absolute magnitude of the star** in the data:\n",
    "\n"
   ]
  },
  {
   "cell_type": "markdown",
   "metadata": {},
   "source": [
    "### Measure the distance\n",
    "\n",
    "To get the distance to the star, we need to use one more equation, which calculates the distance $d$ in parsecs to a star given its absolute magnitude $M$ and its apparent magnitude $m$: \n",
    "\n",
    "$$ M = m - 5 (\\log_{10}{d} - 1) $$\n",
    "\n",
    "\n",
    "\n",
    "If the apparent magnitude of this star is $m = 4$, **calcuate the distance to the star using your absolute magnitude calculated above.**"
   ]
  },
  {
   "cell_type": "code",
   "execution_count": 18,
   "metadata": {},
   "outputs": [],
   "source": [
    "# Create function to calculate the distance to the Cepheid\n",
    "def distance(m,M):\n",
    "    \"\"\"This function takes the apparent and absolute magnitudes\n",
    "    and returns the distance to a star in parsec\"\"\"\n",
    "    \n",
    "    return d"
   ]
  },
  {
   "cell_type": "code",
   "execution_count": 6,
   "metadata": {},
   "outputs": [
    {
     "ename": "SyntaxError",
     "evalue": "invalid syntax (<ipython-input-6-224402836a9f>, line 3)",
     "output_type": "error",
     "traceback": [
      "\u001b[0;36m  File \u001b[0;32m\"<ipython-input-6-224402836a9f>\"\u001b[0;36m, line \u001b[0;32m3\u001b[0m\n\u001b[0;31m    cepheid_distance =\u001b[0m\n\u001b[0m                       ^\u001b[0m\n\u001b[0;31mSyntaxError\u001b[0m\u001b[0;31m:\u001b[0m invalid syntax\n"
     ]
    }
   ],
   "source": [
    "# Calculate distance for our Cephied observation\n",
    "m_cepheid = 4\n",
    "cepheid_distance = \n",
    "print('Distance to our Cepheid:',cepheid_distance,'parsecs')"
   ]
  },
  {
   "cell_type": "markdown",
   "metadata": {},
   "source": [
    "### _Phase-folded_ light curve\n",
    "\n",
    "When you find the period of some periodic light curve, we often want to line up each cycle of the observations and line them up with one another, so you can see the pattern in detail. This is called _phase folding_. You can **phase fold the light curve replacing the `times` in your plotting commands with the modulus of the times in the light curve and the period**:\n",
    "\n",
    "$$\\textrm{folded times} = \\textrm{times} \\,\\%\\, \\textrm{period}$$\n",
    "\n"
   ]
  },
  {
   "cell_type": "code",
   "execution_count": 7,
   "metadata": {},
   "outputs": [
    {
     "ename": "NameError",
     "evalue": "name 'plt' is not defined",
     "output_type": "error",
     "traceback": [
      "\u001b[0;31m---------------------------------------------------------------------------\u001b[0m",
      "\u001b[0;31mNameError\u001b[0m                                 Traceback (most recent call last)",
      "\u001b[0;32m<ipython-input-7-76e5c4d77973>\u001b[0m in \u001b[0;36m<module>\u001b[0;34m\u001b[0m\n\u001b[1;32m      1\u001b[0m \u001b[0;31m# Use the scatter plot we created for red and blue magnitude measurements\u001b[0m\u001b[0;34m\u001b[0m\u001b[0;34m\u001b[0m\u001b[0;34m\u001b[0m\u001b[0m\n\u001b[1;32m      2\u001b[0m \u001b[0;31m# Edit the plot so we plot the phase-folded light curve instead\u001b[0m\u001b[0;34m\u001b[0m\u001b[0;34m\u001b[0m\u001b[0;34m\u001b[0m\u001b[0m\n\u001b[0;32m----> 3\u001b[0;31m \u001b[0mplt\u001b[0m\u001b[0;34m.\u001b[0m\u001b[0mfigure\u001b[0m\u001b[0;34m(\u001b[0m\u001b[0mfigsize\u001b[0m\u001b[0;34m=\u001b[0m\u001b[0;34m(\u001b[0m\u001b[0;36m12.5\u001b[0m\u001b[0;34m,\u001b[0m\u001b[0;36m5\u001b[0m\u001b[0;34m)\u001b[0m\u001b[0;34m)\u001b[0m\u001b[0;34m\u001b[0m\u001b[0;34m\u001b[0m\u001b[0m\n\u001b[0m\u001b[1;32m      4\u001b[0m \u001b[0;34m\u001b[0m\u001b[0m\n\u001b[1;32m      5\u001b[0m \u001b[0;31m# Plot data points for blue and red magnitudes\u001b[0m\u001b[0;34m\u001b[0m\u001b[0;34m\u001b[0m\u001b[0;34m\u001b[0m\u001b[0m\n",
      "\u001b[0;31mNameError\u001b[0m: name 'plt' is not defined"
     ]
    }
   ],
   "source": [
    "# Use the scatter plot we created for red and blue magnitude measurements\n",
    "# Edit the plot so we plot the phase-folded light curve instead \n",
    "plt.figure(figsize=(12.5,5))\n",
    "\n",
    "# Plot data points for blue and red magnitudes\n",
    "\n",
    "\n",
    "# Add a legend\n",
    "plt.legend(fontsize=14)"
   ]
  },
  {
   "cell_type": "markdown",
   "metadata": {},
   "source": [
    "### Making a periodogram\n",
    "\n",
    "Astronomers are often looking for periodic signals in various forms of data. One of the diagnostic plots that astronomers often make when looking for periodicities is the *Lomb-Scargle periodogram*, which shows how periodic a signal is over a range of possible periods, allowing you to pick out the approximate period.\n",
    "\n",
    "The function `lomb_scargle_periodogram` takes the times and fluxes from your light curve, and returns the strongest period in your light curve and makes a plot of the periodogram. **Run this function on both the red and the blue data, and identify the period of the light curve. How close was your guess from earlier?**"
   ]
  },
  {
   "cell_type": "code",
   "execution_count": 8,
   "metadata": {},
   "outputs": [],
   "source": [
    "# Import the necessary functions\n",
    "from astropy.stats import LombScargle\n",
    "import warnings\n",
    "\n",
    "# Define the lomg_scargle_periodogram function\n",
    "def lomb_scargle_periodogram(times, fluxes):\n",
    "    \"\"\"\n",
    "    Calculate the best period for a light curve using\n",
    "    a Lomb-Scargle periodogram, and plot the periodogram.\n",
    "    \"\"\"\n",
    "    frequency, power = LombScargle(times,fluxes).autopower()\n",
    "    best_period_index = np.argmax(power)\n",
    "    best_period = 1/frequency[best_period_index]\n",
    "    \n",
    "    # Plot the periodogram\n",
    "   \n",
    "    \n",
    "    return best_period"
   ]
  },
  {
   "cell_type": "code",
   "execution_count": 9,
   "metadata": {},
   "outputs": [
    {
     "ename": "SyntaxError",
     "evalue": "invalid syntax (<ipython-input-9-f8b1f0a52233>, line 2)",
     "output_type": "error",
     "traceback": [
      "\u001b[0;36m  File \u001b[0;32m\"<ipython-input-9-f8b1f0a52233>\"\u001b[0;36m, line \u001b[0;32m2\u001b[0m\n\u001b[0;31m    lomb_scargle_periodogram(data_table[?],data_table[?])\u001b[0m\n\u001b[0m                                        ^\u001b[0m\n\u001b[0;31mSyntaxError\u001b[0m\u001b[0;31m:\u001b[0m invalid syntax\n"
     ]
    }
   ],
   "source": [
    "# Run function on blue magnitudes\n",
    "lomb_scargle_periodogram(data_table[?],data_table[?])"
   ]
  },
  {
   "cell_type": "code",
   "execution_count": 10,
   "metadata": {},
   "outputs": [
    {
     "ename": "SyntaxError",
     "evalue": "invalid syntax (<ipython-input-10-795eba3eb9ee>, line 2)",
     "output_type": "error",
     "traceback": [
      "\u001b[0;36m  File \u001b[0;32m\"<ipython-input-10-795eba3eb9ee>\"\u001b[0;36m, line \u001b[0;32m2\u001b[0m\n\u001b[0;31m    lomb_scargle_periodogram(data_table[?],data_table[?])\u001b[0m\n\u001b[0m                                        ^\u001b[0m\n\u001b[0;31mSyntaxError\u001b[0m\u001b[0;31m:\u001b[0m invalid syntax\n"
     ]
    }
   ],
   "source": [
    "# Run function on red magnitudes\n",
    "lomb_scargle_periodogram(data_table[?],data_table[?])"
   ]
  },
  {
   "cell_type": "markdown",
   "metadata": {},
   "source": [
    "Write a short summary (in a word document) about what you learned from this research project- both in terms of cepheids, in terms of light curves and in terms of periodograms.  This document will help you put together your presentation."
   ]
  },
  {
   "cell_type": "code",
   "execution_count": null,
   "metadata": {},
   "outputs": [],
   "source": []
  }
 ],
 "metadata": {
  "kernelspec": {
   "display_name": "Python 3",
   "language": "python",
   "name": "python3"
  },
  "language_info": {
   "codemirror_mode": {
    "name": "ipython",
    "version": 3
   },
   "file_extension": ".py",
   "mimetype": "text/x-python",
   "name": "python",
   "nbconvert_exporter": "python",
   "pygments_lexer": "ipython3",
   "version": "3.9.1"
  }
 },
 "nbformat": 4,
 "nbformat_minor": 4
}
